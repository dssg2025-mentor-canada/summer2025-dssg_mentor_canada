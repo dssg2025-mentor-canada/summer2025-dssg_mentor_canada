{
  "cells": [
    {
      "cell_type": "markdown",
      "metadata": {},
      "source": [
        "---\n",
        "title: Data preprocessing\n",
        "format: \n",
        "    html:\n",
        "        toc: true\n",
        "        embed-resources: true\n",
        "        warning: false\n",
        "---\n",
        "\n",
        "\n",
        "## Python: Preprocessing and Cleaning\n",
        "\n",
        "### Library Imports"
      ],
      "id": "104c871a"
    },
    {
      "cell_type": "code",
      "metadata": {},
      "source": [
        "import pandas as pd\n",
        "import os\n",
        "from siuba import _, group_by, summarize, filter, select, mutate, arrange, count\n",
        "import matplotlib.pyplot as plt"
      ],
      "id": "eaa5a810",
      "execution_count": null,
      "outputs": []
    },
    {
      "cell_type": "markdown",
      "metadata": {},
      "source": [
        "### Importing Data\n"
      ],
      "id": "aa1e2085"
    },
    {
      "cell_type": "code",
      "metadata": {},
      "source": [
        "youth = pd.read_csv('../../dssg-2025-mentor-canada/Data/Data_2020-Youth-Survey.csv')"
      ],
      "id": "c08200c8",
      "execution_count": null,
      "outputs": []
    },
    {
      "cell_type": "markdown",
      "metadata": {},
      "source": [
        "### Dropping Columns\n"
      ],
      "id": "c234ed88"
    },
    {
      "cell_type": "code",
      "metadata": {},
      "source": [
        "# drop columns up to AO\n",
        "youth = youth.iloc[:, 41:]\n",
        "\n",
        "# drop logic + validation columns \n",
        "youth = youth.drop(columns=['QAge_Validation', 'Logic_QS1_6_Qtext', 'Logic_Qtext', 'QS1_8_Validation', 'Logic_QS1_26_Ask', 'QS1_29_Validation', \n",
        "                              'QS1_30_MValidatio', 'QS1_30_SMValidati', 'QS1_31_BWValidati', 'QS1_32_WValidatio', 'QS2_10_Validation', 'Logic_QS2_14_Ask','Logic_MENTORID1_1_1',\n",
        "                              'Logic_MENTORID1_2_2', 'Logic_MENTORID1_3_3', 'Logic_AP_QS2_23', 'Logic_QS2_27_Ask', 'Logic_QS2_34_Valid', 'Logic_QS2_35_Ask', 'Logic_QS2_35_Mask1_1_1',\n",
        "                              'Logic_QS2_35_Mask1_2_2', 'Logic_QS2_35_Mask1_3_3', 'Logic_QS2_35_Mask1_4_4', 'Logic_QS2_35_Mask1_5_5', 'Logic_QS2_35_Mask1_6_6', 'Logic_QS2_35_Mask1_7_7',\n",
        "                              'Logic_QS2_35_Mask1_8_8', 'Logic_QS2_35_Mask1_9_9', 'Logic_QS2_35_Mask1_10_10', 'QS4_14_Validatio', 'QS4_15_Validatio', 'QS4_19_Validatio', 'QS4_23_Validatio'\n",
        "    \n",
        "                              ])\n",
        "\n",
        "# drop parent education columns (keeping first two parent education columns)\n",
        "youth = youth.drop(youth.columns[102:120], axis=1)"
      ],
      "id": "ed042970",
      "execution_count": null,
      "outputs": []
    },
    {
      "cell_type": "markdown",
      "metadata": {},
      "source": [
        "### Indicate Text Columns"
      ],
      "id": "616b6768"
    },
    {
      "cell_type": "code",
      "metadata": {},
      "source": [
        "text_columns = ['QS1_6_Other', 'QS1_9_Other', 'QS1_11_Other', 'QS1_16_Other', 'QS1_18_Other_1', 'QS1_18_Other_2',\n",
        "                 'QS1_22_Other', 'QS1_26_Other', 'QS1_27_Other', 'QS2_13_Other', 'QS2_14_MENTORID', 'QS2_14_MENTORID_2', 'QS2_14_MENTORID_3', 'QS2_18_LOCATION_1_O', 'QS2_15_RELATIONSHIP2', 'QS2_17_TYPE_2_Other', 'QS2_18_LOCATION_2_O', 'QS2_15_RELATIONSHIP3',\n",
        "                'QS2_17_TYPE_3_Other', 'QS2_18_LOCATION_3_O', 'QS2_25_YOUTHINIT2', 'QS2_27_MENTORPROGRA2', 'QS2_33_TRANSITIONS_Ot', 'QS2_34_SUPPORTS_Ot', 'QS2_38_NETGATIVEMENTO', 'QS3_2_TRANSITIONWITHOUTMEN', 'QS3_3_TRANSITIONSWITHOUTMENTO', 'QS4_4_Other', 'QS4_5_SATEDU_Other']"
      ],
      "id": "4e6c61ef",
      "execution_count": null,
      "outputs": []
    },
    {
      "cell_type": "markdown",
      "metadata": {},
      "source": [
        "### Encode Columns\n",
        "\n",
        "#### Make column names interpertable for Q4 (Race)"
      ],
      "id": "30a3e674"
    },
    {
      "cell_type": "code",
      "metadata": {},
      "source": [
        "youth.rename(columns={\n",
        "    'QS1_6_ETHNOCULTURAL1_1_1': 'Race_SouthAsian',\n",
        "    'QS1_6_ETHNOCULTURAL1_2_2': 'Race_Chinese',\n",
        "    'QS1_6_ETHNOCULTURAL1_3_3': 'Race_Black',\n",
        "    'QS1_6_ETHNOCULTURAL1_4_4': 'Race_Filipino',\n",
        "    'QS1_6_ETHNOCULTURAL1_5_5': 'Race_LatinAmerica',\n",
        "    'QS1_6_ETHNOCULTURAL1_6_6': 'Race_Arab',\n",
        "    'QS1_6_ETHNOCULTURAL1_7_7': 'Race_SouthEastAsian',\n",
        "    'QS1_6_ETHNOCULTURAL1_8_8': 'Race_WestAsian',\n",
        "    'QS1_6_ETHNOCULTURAL1_9_9': 'Race_Korean',\n",
        "    'QS1_6_ETHNOCULTURAL1_10_10': 'Race_Japanese',\n",
        "    'QS1_6_ETHNOCULTURAL1_11_11': 'Race_White',\n",
        "    'QS1_6_ETHNOCULTURAL1_12_12': 'Race_Other',\n",
        "    'QS1_6_ETHNOCULTURAL1_13_13':'Race_Unsure',\n",
        "    'QS1_6_ETHNOCULTURAL1_14_14': 'Race_PreferNotToSay'}, inplace=True)"
      ],
      "id": "4ef63fe0",
      "execution_count": null,
      "outputs": []
    },
    {
      "cell_type": "markdown",
      "metadata": {},
      "source": [
        "#### Make column names interpertable for Q6 (Gender)\n"
      ],
      "id": "5b4a931a"
    },
    {
      "cell_type": "code",
      "metadata": {},
      "source": [
        "youth.rename(columns={\n",
        "    'QS1_9_GENDER1_1_1' : 'Gender_Woman',\n",
        "    'QS1_9_GENDER1_2_2': 'Gender_Man',\n",
        "    'QS1_9_GENDER1_3_3': 'Gender_NonBinary',\n",
        "    'QS1_9_GENDER1_4_4': 'Gender_CulturalMinority',\n",
        "    'QS1_9_GENDER1_5_5': 'Gender_Other',\n",
        "    'QS1_9_GENDER1_6_6': 'Gender_PreferNotToSay'}, inplace=True)"
      ],
      "id": "d733352c",
      "execution_count": null,
      "outputs": []
    },
    {
      "cell_type": "markdown",
      "metadata": {},
      "source": [
        "#### Make column names interpertable for Q10 (Primary caregiver)\n"
      ],
      "id": "c398821d"
    },
    {
      "cell_type": "code",
      "metadata": {},
      "source": [
        "youth.rename(columns={\n",
        "    'QS1_16_PRIMARY1_1_1' : 'Primary_BirthMother',\n",
        "    'QS1_16_PRIMARY1_2_2': 'Primary_BirthFather',\n",
        "    'QS1_16_PRIMARY1_3_3': 'Primary_StepMother',\n",
        "    'QS1_16_PRIMARY1_4_4': 'Primary_StepFather',\n",
        "    'QS1_16_PRIMARY1_5_5': 'Primary_AdoptiveMother',\n",
        "    'QS1_16_PRIMARY1_6_6': 'Primary_AdoptiveFather',\n",
        "    'QS1_16_PRIMARY1_7_7': 'Primary_FosterMother',\n",
        "    'QS1_16_PRIMARY1_8_8': 'Primary_FosterFather',\n",
        "    'QS1_16_PRIMARY1_9_9': 'Primary_Grandmother',\n",
        "    'QS1_16_PRIMARY1_10_10': 'Primary_Grandfather',\n",
        "    'QS1_16_PRIMARY1_11_11': 'Primary_NoGuardians',\n",
        "    'QS1_16_PRIMARY1_12_12': 'Primary_Institution',\n",
        "    'QS1_16_PRIMARY1_13_13': 'Primary_Other'}, inplace=True)"
      ],
      "id": "e27092d8",
      "execution_count": null,
      "outputs": []
    },
    {
      "cell_type": "markdown",
      "metadata": {},
      "source": [
        "#### Add yearly income column\n"
      ],
      "id": "b5bca8c3"
    },
    {
      "cell_type": "code",
      "metadata": {},
      "source": [
        "youth['yearly_from_month'] = youth['Month_income'].fillna(0) * 12\n",
        "youth['yearly_from_seimimonth'] = youth['Semimonth_income'].fillna(0) * 24\n",
        "youth['yearly_from_biweek'] = youth['Biweek_income'].fillna(0)*26\n",
        "youth['yearly_from_week'] = youth['Week_income'].fillna(0) * 52\n",
        "\n",
        "youth['total_yearly_income'] = (youth['yearly_from_month'] +\n",
        "                                youth['yearly_from_seimimonth'] + \n",
        "                                youth['yearly_from_biweek'] + \n",
        "                                youth['yearly_from_week'])"
      ],
      "id": "a50e52bc",
      "execution_count": null,
      "outputs": []
    },
    {
      "cell_type": "markdown",
      "metadata": {},
      "source": [
        "#### Make column names interpertable for Q19c1 (Access Barriers) \n"
      ],
      "id": "5312359e"
    },
    {
      "cell_type": "code",
      "metadata": {},
      "source": [
        "youth.rename(columns={\n",
        "    'QS2_13_ACCESSBARR1_1_1' : 'Barrier_Parent',\n",
        "    'QS2_13_ACCESSBARR1_2_2' : 'Barrier_MentorProgramAvailability',\n",
        "    'QS2_13_ACCESSBARR1_3_3' : 'Barrier_HowToFindMentor',\n",
        "    'QS2_13_ACCESSBARR1_4_4' : 'Barrier_MentorValue',\n",
        "    'QS2_13_ACCESSBARR1_5_5' : 'Barrier_NoWillingMentor',\n",
        "    'QS2_13_ACCESSBARR1_6_6' : 'Barrier_OtherKids',\n",
        "    'QS2_13_ACCESSBARR1_7_7' : 'Barrier_Relevance',\n",
        "    'QS2_13_ACCESSBARR1_8_8' : 'Barrier_Waitlisted',\n",
        "    'QS2_13_ACCESSBARR1_9_9' : 'Barrier_Other',\n",
        "    'QS2_13_ACCESSBARR1_10_10' : 'Barrier_Unsure',\n",
        "    'QS2_13_ACCESSBARR1_11_11' : 'Barrier_PreferNotToSay'\n",
        "  }, inplace=True)"
      ],
      "id": "b69ddbdf",
      "execution_count": null,
      "outputs": []
    },
    {
      "cell_type": "markdown",
      "metadata": {},
      "source": [
        "#### Make column names interpertable for Q20b (Mentor relationship)\n"
      ],
      "id": "0d7b09cc"
    },
    {
      "cell_type": "code",
      "metadata": {},
      "source": [
        "youth.rename(columns={\n",
        "    'QS2_15_RELATIONS1_1_1' : 'Relation1_SchoolStaff',\n",
        "    'QS2_15_RELATIONS1_2_2' : 'Relation1_Neighbour',\n",
        "    'QS2_15_RELATIONS1_3_3' : 'Relation1_FamilyFriend',\n",
        "    'QS2_15_RELATIONS1_4_4' : 'Relation1_FriendsParent',\n",
        "    'QS2_15_RELATIONS1_5_5' : 'Relation1_AdultSibling',\n",
        "    'QS2_15_RELATIONS1_6_6' : 'Relation1_OtherAdultRelative',\n",
        "    'QS2_15_RELATIONS1_7_7' : 'Relation1_FosterParent',\n",
        "    'QS2_15_RELATIONS1_8_8' : 'Relation1_YouthWorker',\n",
        "    'QS2_15_RELATIONS1_9_9' : 'Relation1_Volunteer',\n",
        "    'QS2_15_RELATIONS1_10_10' : 'Relation1_Elder-Auntie',\n",
        "    'QS2_15_RELATIONS1_11_11' : 'Relation1_Social-CaseWorker',\n",
        "    'QS2_15_RELATIONS1_12_12' : 'Relation1_Therapist-Councellor-Physcologist',\n",
        "    'QS2_15_RELATIONS1_13_13' : 'Relation1_SpirutalLeader',\n",
        "    'QS2_15_RELATIONS1_14_14' : 'Relation1_Coach-GuidesLeader',\n",
        "    'QS2_15_RELATIONS1_15_15' : 'Relation1_Other'\n",
        "  }, inplace=True)\n",
        "\n",
        "youth.rename(columns={\n",
        "    'QS2_15_RELATIONS2_1_1' : 'Relation2_SchoolStaff',\n",
        "    'QS2_15_RELATIONS2_2_2' : 'Relation2_Neighbour',\n",
        "    'QS2_15_RELATIONS2_3_3' : 'Relation2_FamilyFriend',\n",
        "    'QS2_15_RELATIONS2_4_4' : 'Relation2_FriendsParent',\n",
        "    'QS2_15_RELATIONS2_5_5' : 'Relation2_AdultSibling',\n",
        "    'QS2_15_RELATIONS2_6_6' : 'Relation2_OtherAdultRelative',\n",
        "    'QS2_15_RELATIONS2_7_7' : 'Relation2_FosterParent',\n",
        "    'QS2_15_RELATIONS2_8_8' : 'Relation2_YouthWorker',\n",
        "    'QS2_15_RELATIONS2_9_9' : 'Relation2_Volunteer',\n",
        "    'QS2_15_RELATIONS2_10_10' : 'Relation2_Elder-Auntie',\n",
        "    'QS2_15_RELATIONS2_11_11' : 'Relation2_Social-CaseWorker',\n",
        "    'QS2_15_RELATIONS2_12_12' : 'Relation2_Therapist-Councellor-Physcologist',\n",
        "    'QS2_15_RELATIONS2_13_13' : 'Relation2_SpirutalLeader',\n",
        "    'QS2_15_RELATIONS2_14_14' : 'Relation2_Coach-GuidesLeader',\n",
        "    'QS2_15_RELATIONS2_15_15' : 'Relation2_Other'\n",
        "  }, inplace=True)\n",
        "\n",
        "youth.rename(columns={\n",
        "    'QS2_15_RELATIONS3_1_1' : 'Relation3_SchoolStaff',\n",
        "    'QS2_15_RELATIONS3_2_2' : 'Relation3_Neighbour',\n",
        "    'QS2_15_RELATIONS3_3_3' : 'Relation3_FamilyFriend',\n",
        "    'QS2_15_RELATIONS3_4_4' : 'Relation3_FriendsParent',\n",
        "    'QS2_15_RELATIONS3_5_5' : 'Relation3_AdultSibling',\n",
        "    'QS2_15_RELATIONS3_6_6' : 'Relation3_OtherAdultRelative',\n",
        "    'QS2_15_RELATIONS3_7_7' : 'Relation3_FosterParent',\n",
        "    'QS2_15_RELATIONS3_8_8' : 'Relation3_YouthWorker',\n",
        "    'QS2_15_RELATIONS3_9_9' : 'Relation3_Volunteer',\n",
        "    'QS2_15_RELATIONS3_10_10' : 'Relation3_Elder-Auntie',\n",
        "    'QS2_15_RELATIONS3_11_11' : 'Relation3_Social-CaseWorker',\n",
        "    'QS2_15_RELATIONS3_12_12' : 'Relation3_Therapist-Councellor-Physcologist',\n",
        "    'QS2_15_RELATIONS3_13_13' : 'Relation3_SpirutalLeader',\n",
        "    'QS2_15_RELATIONS3_14_14' : 'Relation3_Coach-GuidesLeader',\n",
        "    'QS2_15_RELATIONS3_15_15' : 'Relation3_Other'\n",
        "  }, inplace=True)\n"
      ],
      "id": "5115101d",
      "execution_count": null,
      "outputs": []
    },
    {
      "cell_type": "markdown",
      "metadata": {},
      "source": [
        "#### Make column names interpertable for 20h (Focus of relationship)\n"
      ],
      "id": "c6920cae"
    },
    {
      "cell_type": "code",
      "metadata": {},
      "source": [
        "youth.rename(columns={\n",
        "    'QS2_21_FOCUS_11_1_1' : 'Focus1_EducationSupport',\n",
        "    'QS2_21_FOCUS_11_2_2' : 'Focus1_Spirutal-Religous-CulturalSupport',\n",
        "    'QS2_21_FOCUS_11_3_3' : 'Focus1_Emotional-SocialSupport'\n",
        "  }, inplace=True)\n",
        "\n",
        "youth.rename(columns={\n",
        "    'QS2_21_FOCUS_21_1_1' : 'Focus2_EducationSupport',\n",
        "    'QS2_21_FOCUS_21_2_2' : 'Focus2_Spirutal-Religous-CulturalSupport',\n",
        "    'QS2_21_FOCUS_21_3_3' : 'Focus2_Emotional-SocialSupport'\n",
        "  }, inplace=True)\n",
        "\n",
        "youth.rename(columns={\n",
        "    'QS2_21_FOCUS_31_1_1' : 'Focus3_EducationSupport',\n",
        "    'QS2_21_FOCUS_31_2_2' : 'Focus3_Spirutal-Religous-CulturalSupport',\n",
        "    'QS2_21_FOCUS_31_3_3' : 'Focus3_Emotional-SocialSupport'\n",
        "  }, inplace=True)"
      ],
      "id": "eb89de56",
      "execution_count": null,
      "outputs": []
    },
    {
      "cell_type": "markdown",
      "metadata": {},
      "source": [
        "#### Make column names interpertable for 23a (If youth initated, why?)\n"
      ],
      "id": "d96e9574"
    },
    {
      "cell_type": "code",
      "metadata": {},
      "source": [
        "youth.rename(columns={\n",
        "    'QS2_26_INITIATIO1_1_1' : 'Initated_StrugglingInSchool',\n",
        "    'QS2_26_INITIATIO1_2_2' : 'Initated_StrugglingMentalHealth',\n",
        "    'QS2_26_INITIATIO1_3_3' : 'Initated_InFoster-GovernmentCare',\n",
        "    'QS2_26_INITIATIO1_4_4' : 'Initated_StrugglingGender-SexualOrient',\n",
        "    'QS2_26_INITIATIO1_5_5' : 'Initated_GuardianInPrison',\n",
        "    'QS2_26_INITIATIO1_6_6' : 'Initated_CarrerPlanningGuidance',\n",
        "    'QS2_26_INITIATIO1_7_7' : 'Initated_AcademicFutureGuidance',\n",
        "    'QS2_26_INITIATIO1_8_8' : 'Initated_InTroubleWithLaw',\n",
        "    'QS2_26_INITIATIO1_9_9' : 'Initated_Bullied',\n",
        "    'QS2_26_INITIATIO1_10_10' : 'Initated_StrugglingRelatingToOthers',\n",
        "    'QS2_26_INITIATIO1_11_11' : 'Initated_SomeoneToTalkTo',\n",
        "    'QS2_26_INITIATIO1_12_12' : 'Initated_MovedSchools-Cities-Community',\n",
        "    'QS2_26_INITIATIO1_13_13' : 'Initated_Immigrated',\n",
        "    'QS2_26_INITIATIO1_14_14' : 'Initated_FamilyChanges',\n",
        "    'QS2_26_INITIATIO1_15_15' : 'Initated_NoneofAbove',\n",
        "    'QS2_26_INITIATIO1_16_16' : 'Initated_Unsure',\n",
        "    'QS2_26_INITIATIO1_17_17' : 'Initated_Other'\n",
        "\n",
        "  }, inplace=True)"
      ],
      "id": "a98f1780",
      "execution_count": null,
      "outputs": []
    },
    {
      "cell_type": "markdown",
      "metadata": {},
      "source": [
        "#### Make column names interpertable for 25a (Match criteria)"
      ],
      "id": "ac5ff0b7"
    },
    {
      "cell_type": "code",
      "metadata": {},
      "source": [
        "youth.rename(columns={\n",
        "    'QS2_29_MATCHCRITERI1_1_1' : 'Match_GenderIdentity',\n",
        "    'QS2_29_MATCHCRITERI1_2_2' : 'Match_Ethnicity',\n",
        "    'QS2_29_MATCHCRITERI1_3_3' : 'Match_CulturalBackground',\n",
        "    'QS2_29_MATCHCRITERI1_4_4' : 'Match_ScheduleAvailability',\n",
        "    'QS2_29_MATCHCRITERI1_5_5' : 'Match_Interests',\n",
        "    'QS2_29_MATCHCRITERI1_6_6' : 'Match_Goals',\n",
        "    'QS2_29_MATCHCRITERI1_7_7' : 'Match_Personalities',\n",
        "    'QS2_29_MATCHCRITERI1_8_8' : 'Match_LifeStruggles',\n",
        "    'QS2_29_MATCHCRITERI1_9_9' : 'Match_Other',\n",
        "    'QS2_29_MATCHCRITERI1_10_10' : 'Match_Unsure',\n",
        "    'QS2_29_MATCHCRITERI1_11_11' : 'Match_PreferNotToSay'}, inplace=True)"
      ],
      "id": "fe606fd9",
      "execution_count": null,
      "outputs": []
    },
    {
      "cell_type": "markdown",
      "metadata": {},
      "source": [
        "#### Make column names interpertable for 29 (Transitions)\n"
      ],
      "id": "36c38b8a"
    },
    {
      "cell_type": "code",
      "metadata": {},
      "source": [
        "youth.rename(columns={\n",
        "    'QS2_33_TRANSITIONS1_1_1' : 'Transition_School',\n",
        "    'QS2_33_TRANSITIONS1_2_2' : 'Transition_NewSchool',\n",
        "    'QS2_33_TRANSITIONS1_3_3' : 'Transition_NewCommunity',\n",
        "    'QS2_33_TRANSITIONS1_4_4' : 'Transition_GettingDriversLicense',\n",
        "    'QS2_33_TRANSITIONS1_5_5' : 'Transition_JobAspirations',\n",
        "    'QS2_33_TRANSITIONS1_6_6' : 'Transition_GettingFirstJob',\n",
        "    'QS2_33_TRANSITIONS1_7_7' : 'Transition_ApplyingToTradeSchool-Collge-Uni',\n",
        "    'QS2_33_TRANSITIONS1_8_8' : 'Transition_IndependenceFromGuardian',\n",
        "    'QS2_33_TRANSITIONS1_9_9' : 'Transition_FundingForTradeSchool-Collge-Uni',\n",
        "    'QS2_33_TRANSITIONS1_10_10' : 'Transition_NoneOfAbove',\n",
        "    'QS2_33_TRANSITIONS1_11_11' : 'Transition_Other',\n",
        "    'QS2_33_TRANSITIONS1_12_12' : 'Transition_PreferNotToSay'\n",
        "    }, inplace=True)"
      ],
      "id": "cfc2c812",
      "execution_count": null,
      "outputs": []
    },
    {
      "cell_type": "markdown",
      "metadata": {},
      "source": [
        "#### Make column names interperatble for 33 (Negative Mentor Experiences)"
      ],
      "id": "9b6c74f5"
    },
    {
      "cell_type": "code",
      "metadata": {},
      "source": [
        "youth.rename(columns={\n",
        "    'QS2_38_NETGATIVEME1_1_1' : 'Negative_MetorQuit',\n",
        "    'QS2_38_NETGATIVEME1_2_2' : 'Negative_NoSharedInterest',\n",
        "    'QS2_38_NETGATIVEME1_3_3' : 'Negative_MetorDidNotUnderstandYouth',\n",
        "    'QS2_38_NETGATIVEME1_4_4' : 'Negative_MetorDidNotUnderstandCulture',\n",
        "    'QS2_38_NETGATIVEME1_5_5' : 'Negative_MetorUnreliable',\n",
        "    'QS2_38_NETGATIVEME1_6_6' : 'Negative_MetorCouldNotSupport',\n",
        "    'QS2_38_NETGATIVEME1_7_7' : 'Negative_DidNotGetAlong',\n",
        "    'QS2_38_NETGATIVEME1_8_8' : 'Negative_ReassignedMentor',\n",
        "    'QS2_38_NETGATIVEME1_9_9' : 'Negative_MetorHadUnrealisticExpectations',\n",
        "    'QS2_38_NETGATIVEME1_10_10' : 'Negative_MetorDidNotRespectBoundaries',\n",
        "    'QS2_38_NETGATIVEME1_11_11' : 'Negative_MetorDidNotRelateGender-SexualOrient',\n",
        "    'QS2_38_NETGATIVEME1_12_12' : 'Negative_MetorBusy',\n",
        "    'QS2_38_NETGATIVEME1_13_13' : 'Negative_MetorDidNotRelateBackground',\n",
        "    'QS2_38_NETGATIVEME1_14_14' : 'Negative_MetorLookedDownOnMentee',\n",
        "    'QS2_38_NETGATIVEME1_15_15' : 'Negative_MetorLookedDownOnFamily',\n",
        "    'QS2_38_NETGATIVEME1_16_16' : 'Negative_Family-GuardiansDidNotSupport',\n",
        "    'QS2_38_NETGATIVEME1_17_17' : 'Negative_Other',\n",
        "    'QS2_38_NETGATIVEME1_18_18' : 'Negative_NoneOfTheAbove',\n",
        "    'QS2_38_NETGATIVEME1_19_19' : 'Negative_PreferNotToSay',}, inplace=True)"
      ],
      "id": "3e96311d",
      "execution_count": null,
      "outputs": []
    },
    {
      "cell_type": "code",
      "metadata": {},
      "source": [
        "youth.to_csv('../../dssg-2025-mentor-canada/Data/encodedselectall.csv')"
      ],
      "id": "e11fb8a6",
      "execution_count": null,
      "outputs": []
    }
  ],
  "metadata": {
    "kernelspec": {
      "display_name": "Python 3",
      "language": "python",
      "name": "python3"
    }
  },
  "nbformat": 4,
  "nbformat_minor": 5
}